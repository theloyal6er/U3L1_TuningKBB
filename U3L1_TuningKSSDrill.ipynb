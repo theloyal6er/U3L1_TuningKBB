{
 "cells": [
  {
   "cell_type": "markdown",
   "metadata": {},
   "source": [
    "Unit 3 Lesson 1\n",
    "Jason Paik\n",
    "Thinkful Data Science\n",
    "Tuning KNN Drill\n",
    "\n",
    "DRILL: Let's say we work at a credit card company and we're trying to figure out if people are going to pay their bills on time. We have everyone's purchases, split into four main categories: groceries, dining out, utilities, and entertainment. What are some ways you might use KNN to create this model? What aspects of KNN would be useful? Write up your thoughts in submit a link below.\n",
    "\n",
    "RESPONSE:\n",
    "\n",
    "KNN classifiers are interesting because when you have certain classifiers set between certain amounts of data, you can predict the outcome when new data comes in when you have those classifiers set to your KNN model. Between those four categories, groceries and utilities are more of the \"necessary\" monthly expenses whereas dining out and entertainment are some of \"luxury\" monthly expenses.\n",
    "\n",
    "If we want to figure out whether people are going to pay their credit card bills on time, we're essentially looking to track people who responsibly use their credit cards and pay what they can afford and not over-spend. I would go forth in setting up this model through the dollar amount spent per month for each of the four categories per customer. Once you create a dataframe between each category, you can then create a fifth dataframe that shows in a binary fashion between 1 and 0 whether customers had paid their bills on time between each of the four expenses. This would then create a KNN model showing at what price ranges between these four expenses are unaffordable for people to pay their credit bills on time. There are ranging factors, predominately in regards to one's monthly income to supplement this data, but I believe this model shows a good indicator between these four categories at what levels these algorithms correctly can predict whether someone's credit bills will be paid on time or not.\n",
    "\n"
   ]
  },
  {
   "cell_type": "code",
   "execution_count": null,
   "metadata": {},
   "outputs": [],
   "source": []
  }
 ],
 "metadata": {
  "kernelspec": {
   "display_name": "Python 3",
   "language": "python",
   "name": "python3"
  },
  "language_info": {
   "codemirror_mode": {
    "name": "ipython",
    "version": 3
   },
   "file_extension": ".py",
   "mimetype": "text/x-python",
   "name": "python",
   "nbconvert_exporter": "python",
   "pygments_lexer": "ipython3",
   "version": "3.7.0"
  }
 },
 "nbformat": 4,
 "nbformat_minor": 2
}
